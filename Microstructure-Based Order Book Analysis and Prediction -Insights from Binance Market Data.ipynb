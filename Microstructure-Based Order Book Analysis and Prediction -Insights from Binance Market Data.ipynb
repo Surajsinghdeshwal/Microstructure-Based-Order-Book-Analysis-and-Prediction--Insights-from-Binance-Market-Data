{
 "cells": [
  {
   "cell_type": "code",
   "execution_count": 11,
   "id": "af79cbd3-e5a2-4e93-9120-65a3870c461a",
   "metadata": {},
   "outputs": [
    {
     "name": "stdout",
     "output_type": "stream",
     "text": [
      "Spread: 0.01\n",
      "Bid Depth: 24.52\n",
      "Ask Depth: 17.67\n",
      "Liquidity Ratio: 1.39\n",
      "Mean Squared Error: 0.03\n"
     ]
    }
   ],
   "source": [
    "import requests\n",
    "import pandas as pd\n",
    "import numpy as np\n",
    "import matplotlib.pyplot as plt\n",
    "from sklearn.linear_model import LinearRegression\n",
    "from sklearn.model_selection import train_test_split\n",
    "from sklearn.metrics import mean_squared_error\n",
    "\n",
    "# API endpoint for Binance order book\n",
    "API_URL = \"https://api.binance.com/api/v3/depth\"\n",
    "\n",
    "def fetch_order_book(symbol, limit=100):\n",
    "    \"\"\"Fetch the order book data from Binance API\"\"\"\n",
    "    params = {'symbol': symbol, 'limit': limit}\n",
    "    response = requests.get(API_URL, params=params)\n",
    "    data = response.json()\n",
    "    return data\n",
    "\n",
    "def process_order_book(data):\n",
    "    \"\"\"Process order book data into pandas DataFrame\"\"\"\n",
    "    bids = pd.DataFrame(data['bids'], columns=['Price', 'Quantity'], dtype=float)\n",
    "    asks = pd.DataFrame(data['asks'], columns=['Price', 'Quantity'], dtype=float)\n",
    "    return bids, asks\n",
    "\n",
    "def calculate_order_book_metrics(bids, asks):\n",
    "    \"\"\"Calculate order book metrics\"\"\"\n",
    "    spread = asks['Price'].iloc[0] - bids['Price'].iloc[0]\n",
    "    bid_depth = bids['Quantity'].sum()\n",
    "    ask_depth = asks['Quantity'].sum()\n",
    "    liquidity_ratio = bid_depth / ask_depth\n",
    "    return spread, bid_depth, ask_depth, liquidity_ratio\n",
    "\n",
    "def prepare_features(bids, asks):\n",
    "    \"\"\"Prepare features for predictive modeling\"\"\"\n",
    "    features = pd.DataFrame({\n",
    "        'Bid_Price': bids['Price'],\n",
    "        'Bid_Quantity': bids['Quantity'],\n",
    "        'Ask_Price': asks['Price'],\n",
    "        'Ask_Quantity': asks['Quantity']\n",
    "    }).fillna(0)\n",
    "    return features\n",
    "\n",
    "def predict_price_movement(features):\n",
    "    \"\"\"Predict price movement using linear regression\"\"\"\n",
    "    features['Mid_Price'] = (features['Bid_Price'] + features['Ask_Price']) / 2\n",
    "    target = features['Mid_Price'].shift(-1) - features['Mid_Price']\n",
    "    features = features.iloc[:-1]\n",
    "    target = target.dropna()\n",
    "\n",
    "    X_train, X_test, y_train, y_test = train_test_split(features, target, test_size=0.2, random_state=0)\n",
    "\n",
    "    model = LinearRegression()\n",
    "    model.fit(X_train, y_train)\n",
    "    predictions = model.predict(X_test)\n",
    "\n",
    "    mse = mean_squared_error(y_test, predictions)\n",
    "    print(f\"Mean Squared Error: {mse:.2f}\")\n",
    "\n",
    "    return model\n",
    "\n",
    "# Example symbol\n",
    "symbol = 'BTCUSDT'\n",
    "order_book_data = fetch_order_book(symbol)\n",
    "bids, asks = process_order_book(order_book_data)\n",
    "\n",
    "# Calculate metrics\n",
    "spread, bid_depth, ask_depth, liquidity_ratio = calculate_order_book_metrics(bids, asks)\n",
    "print(f\"Spread: {spread:.2f}\")\n",
    "print(f\"Bid Depth: {bid_depth:.2f}\")\n",
    "print(f\"Ask Depth: {ask_depth:.2f}\")\n",
    "print(f\"Liquidity Ratio: {liquidity_ratio:.2f}\")\n",
    "\n",
    "# Prepare features and predict\n",
    "features = prepare_features(bids, asks)\n",
    "model = predict_price_movement(features)\n"
   ]
  },
  {
   "cell_type": "code",
   "execution_count": null,
   "id": "ed500e49-1e69-4872-9910-a831c0e67b07",
   "metadata": {},
   "outputs": [],
   "source": []
  }
 ],
 "metadata": {
  "kernelspec": {
   "display_name": "Python 3 (ipykernel)",
   "language": "python",
   "name": "python3"
  },
  "language_info": {
   "codemirror_mode": {
    "name": "ipython",
    "version": 3
   },
   "file_extension": ".py",
   "mimetype": "text/x-python",
   "name": "python",
   "nbconvert_exporter": "python",
   "pygments_lexer": "ipython3",
   "version": "3.11.1"
  }
 },
 "nbformat": 4,
 "nbformat_minor": 5
}
